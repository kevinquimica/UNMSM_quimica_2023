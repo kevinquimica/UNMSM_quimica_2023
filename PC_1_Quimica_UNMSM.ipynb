{
  "nbformat": 4,
  "nbformat_minor": 0,
  "metadata": {
    "colab": {
      "provenance": [],
      "include_colab_link": true
    },
    "kernelspec": {
      "name": "python3",
      "display_name": "Python 3"
    },
    "language_info": {
      "name": "python"
    },
    "widgets": {
      "application/vnd.jupyter.widget-state+json": {
        "d4691835f4474884829213796343340f": {
          "model_module": "faerun-notebook",
          "model_name": "SmilesDrawerModel",
          "model_module_version": "^0.1.5",
          "state": {
            "_dom_classes": [],
            "_model_module": "faerun-notebook",
            "_model_module_version": "^0.1.5",
            "_model_name": "SmilesDrawerModel",
            "_view_count": null,
            "_view_module": "faerun-notebook",
            "_view_module_version": "^0.1.5",
            "_view_name": "SmilesDrawerView",
            "background": "#1e1e1e",
            "border": true,
            "layout": "IPY_MODEL_35b7ce94b6e84d4c985918e50984dcd7",
            "options": {
              "scale": 1.25
            },
            "output": "svg",
            "theme": "dark",
            "value": [
              [
                "Rxn",
                "C(C1C(C(C(C(O1)O)O)O)O)O.O=O>>C(=O)=O.O"
              ]
            ]
          }
        },
        "35b7ce94b6e84d4c985918e50984dcd7": {
          "model_module": "@jupyter-widgets/base",
          "model_name": "LayoutModel",
          "model_module_version": "1.2.0",
          "state": {
            "_model_module": "@jupyter-widgets/base",
            "_model_module_version": "1.2.0",
            "_model_name": "LayoutModel",
            "_view_count": null,
            "_view_module": "@jupyter-widgets/base",
            "_view_module_version": "1.2.0",
            "_view_name": "LayoutView",
            "align_content": null,
            "align_items": null,
            "align_self": null,
            "border": null,
            "bottom": null,
            "display": null,
            "flex": null,
            "flex_flow": null,
            "grid_area": null,
            "grid_auto_columns": null,
            "grid_auto_flow": null,
            "grid_auto_rows": null,
            "grid_column": null,
            "grid_gap": null,
            "grid_row": null,
            "grid_template_areas": null,
            "grid_template_columns": null,
            "grid_template_rows": null,
            "height": null,
            "justify_content": null,
            "justify_items": null,
            "left": null,
            "margin": null,
            "max_height": null,
            "max_width": null,
            "min_height": null,
            "min_width": null,
            "object_fit": null,
            "object_position": null,
            "order": null,
            "overflow": null,
            "overflow_x": null,
            "overflow_y": null,
            "padding": null,
            "right": null,
            "top": null,
            "visibility": null,
            "width": null
          }
        }
      }
    }
  },
  "cells": [
    {
      "cell_type": "markdown",
      "metadata": {
        "id": "view-in-github",
        "colab_type": "text"
      },
      "source": [
        "<a href=\"https://colab.research.google.com/github/kevinquimica/UNMSM_quimica_2023/blob/main/PC_1_Quimica_UNMSM.ipynb\" target=\"_parent\"><img src=\"https://colab.research.google.com/assets/colab-badge.svg\" alt=\"Open In Colab\"/></a>"
      ]
    },
    {
      "cell_type": "markdown",
      "source": [
        "$$\\Large \\textit{UNMSM | Química}$$\n",
        "$$\\large \\textbf{PC Nº1 | Materia y clasificación}$$\n",
        "\n",
        "_Profesor: Jesus Alvarado Huayhuaz_"
      ],
      "metadata": {
        "id": "sDJAjbaQOj4x"
      }
    },
    {
      "cell_type": "markdown",
      "source": [
        "Alumno: Kevin Jhair Espinoza Milla\n",
        "cODIGO 17140019\n"
      ],
      "metadata": {
        "id": "vAjGLv4yLjf2"
      }
    },
    {
      "cell_type": "markdown",
      "source": [
        "Todas las indicaciones para la presentación de la práctica son explicadas en clase y brindadas en el material de enunciado de preguntas en formato PDF."
      ],
      "metadata": {
        "id": "_DsTzWLoP7Fy"
      }
    },
    {
      "cell_type": "markdown",
      "source": [
        "## Pregunta 1: Sobre el ABC de python (4 puntos)"
      ],
      "metadata": {
        "id": "obD7c2igOD6t"
      }
    },
    {
      "cell_type": "markdown",
      "source": [
        "Durante la semana de revisión del material \"ABC de python\", reflexiona sobre qué conceptos aprendiste con claridad y cuáles consideras los más desafiantes. A continuación resuelve los siguiente ejercicios, puedes ayudarte del material en http://bit.ly/3YKICSZ."
      ],
      "metadata": {
        "id": "emt93S7dL7QH"
      }
    },
    {
      "cell_type": "code",
      "source": [
        "# Imprime la versión de python que usas y las palabras reservadas de python para esa versión.\n",
        "# Imprime la versión de python que usas y las palabras reservadas de python para esa versión.\n",
        "import sys\n",
        "import keyword\n",
        "\n",
        "# Imprimir la versión de Python\n",
        "print(\"Versión de Python:\")\n",
        "print(sys.version)\n",
        "\n",
        "# Listar las palabras reservadas de Python\n",
        "print(\"\\nPalabras reservadas de Python:\")\n",
        "print(keyword.kwlist)"
      ],
      "metadata": {
        "id": "6mJvqMN0LTU8"
      },
      "execution_count": null,
      "outputs": []
    },
    {
      "cell_type": "code",
      "source": [
        "\n",
        "# Crea una matriz de 3x3 e imprime la suma de los elementos en su diagonal (traza).\n",
        "# Inicializar una matriz 3x3 con ceros\n",
        "matriz = [[0, 0, 0], [0, 0, 0], [0, 0, 0]]\n",
        "\n",
        "# Ingresar valores en la matriz\n",
        "print(\"Ingresa los valores de la matriz 3x3:\")\n",
        "for i in range(3):\n",
        "    for j in range(3):\n",
        "        matriz[i][j] = float(input(f\"Ingresa el valor para la posición [{i+1}][{j+1}]: \"))\n",
        "\n",
        "# Inicializar una variable para almacenar la suma de la diagonal\n",
        "suma_diagonal = 0\n",
        "\n",
        "# Calcular la suma de la diagonal\n",
        "for i in range(3):\n",
        "    suma_diagonal += matriz[i][i]\n",
        "\n",
        "# Imprimir la matriz\n",
        "print(\"\\nMatriz ingresada:\")\n",
        "for fila in matriz:\n",
        "    print(fila)\n",
        "\n",
        "# Imprimir la suma de los elementos en la diagonal\n",
        "print(\"\\nLa suma de los elementos en la diagonal es:\", suma_diagonal)"
      ],
      "metadata": {
        "id": "MxDzGypdLTXh"
      },
      "execution_count": null,
      "outputs": []
    },
    {
      "cell_type": "code",
      "source": [
        "\n",
        "# Guarda como variable la masa atómica de los elementos C, H y O, e imprime la masa molecular del etanol.\n",
        "# Definir las masas atómicas de los elementos C, H y O en unidades de masa atómica (u)\n",
        "masa_C = 12.00\n",
        "masa_H = 1.00\n",
        "masa_O = 16.00\n",
        "\n",
        "# Composición molecular del etanol (C2H5OH)\n",
        "num_atomos_C = 2\n",
        "num_atomos_H = 6\n",
        "num_atomos_O = 1\n",
        "\n",
        "# Calcular la masa molecular del etanol\n",
        "masa_molecular_etanol = (num_atomos_C * masa_C) + (num_atomos_H * masa_H) + (num_atomos_O * masa_O)\n",
        "\n",
        "# Imprimir la masa molecular del etanol\n",
        "print(\"Masa molecular del etanol (C2H5OH):\", masa_molecular_etanol)"
      ],
      "metadata": {
        "id": "MyhNX7JmLTSe"
      },
      "execution_count": null,
      "outputs": []
    },
    {
      "cell_type": "code",
      "source": [
        "# Busca la temperatura de fusión en Celsius de 5 metales y guárdalos en una lista. Imprime las temperaturas en Kelvin\n",
        "# Definir una lista de metales y sus temperaturas de fusión en grados Celsius\n",
        "metales_temperaturas_C = {\n",
        "    \"Hierro\": 1538,\n",
        "    \"Aluminio\": 660.32,\n",
        "    \"Cobre\": 1084.62,\n",
        "    \"Plata\": 961.78,\n",
        "    \"Oro\": 1064.18\n",
        "}\n",
        "\n",
        "# Inicializar una lista vacía para almacenar las temperaturas en Kelvin\n",
        "temperaturas_K = []\n",
        "\n",
        "# Convertir las temperaturas de Celsius a Kelvin y guardarlas en la lista\n",
        "for metal, temp_C in metales_temperaturas_C.items():\n",
        "    temp_K = temp_C + 273.15  # Fórmula de conversión de Celsius a Kelvin\n",
        "    temperaturas_K.append((metal, temp_K))\n",
        "\n",
        "# Imprimir las temperaturas en Kelvin\n",
        "print(\"Temperaturas de fusión en Kelvin:\")\n",
        "for metal, temp_K in temperaturas_K:\n",
        "    print(f\"{metal}: {temp_K} K\")"
      ],
      "metadata": {
        "id": "NCOnJ0FwgLLc"
      },
      "execution_count": null,
      "outputs": []
    },
    {
      "cell_type": "markdown",
      "source": [
        "## Pregunta 2: Operaciones (4 puntos)"
      ],
      "metadata": {
        "id": "epzOadagLfPi"
      }
    },
    {
      "cell_type": "markdown",
      "source": [
        "Escribe un programa que lea repetidamente elementos químicos en español hasta que el usuario introduzca “fin”. Una vez se haya introducido “fin”, muestra por pantalla (o sea imprime) el total de elementos ingresados. Si el usuario introduce cualquier otra cosa que no sea un elemento químico, detecta su fallo usando try y except, muestra un mensaje de error y pasa al siguiente elemento."
      ],
      "metadata": {
        "id": "MbAEOGPsjOWZ"
      }
    },
    {
      "cell_type": "code",
      "source": [
        "# Definir el diccionario de elementos químicos en español\n",
        "elementos_quimicos = {\n",
        "    \"hidrogeno\": \"H\", \"helio\": \"He\", \"litio\": \"Li\", \"berilio\": \"Be\", \"boro\": \"B\", \"carbono\": \"C\", \"nitrogeno\": \"N\", \"oxigeno\": \"O\", \"fluor\": \"F\", \"neon\": \"Ne\",\n",
        "    \"sodio\": \"Na\", \"magnesio\": \"Mg\", \"aluminio\": \"Al\", \"silicio\": \"Si\", \"fosforo\": \"P\", \"azufre\": \"S\", \"cloro\": \"Cl\", \"argon\": \"Ar\", \"potasio\": \"K\", \"calcio\": \"Ca\",\n",
        "    \"escandio\": \"Sc\", \"titanio\": \"Ti\", \"vanadio\": \"V\", \"cromo\": \"Cr\", \"manganeso\": \"Mn\", \"hierro\": \"Fe\", \"cobalto\": \"Co\", \"niquel\": \"Ni\", \"cobre\": \"Cu\", \"zinc\": \"Zn\",\n",
        "    \"galio\": \"Ga\", \"germanio\": \"Ge\", \"arsenico\": \"As\", \"selenio\": \"Se\", \"bromo\": \"Br\", \"cripton\": \"Kr\", \"rubidio\": \"Rb\", \"estroncio\": \"Sr\", \"itrio\": \"Y\", \"circonio\": \"Zr\",\n",
        "    \"niobio\": \"Nb\", \"molibdeno\": \"Mo\", \"tecnecio\": \"Tc\", \"rutenio\": \"Ru\", \"rodio\": \"Rh\", \"paladio\": \"Pd\", \"plata\": \"Ag\", \"cadmio\": \"Cd\", \"indio\": \"In\", \"estano\": \"Sn\",\n",
        "    \"antimonio\": \"Sb\", \"telurio\": \"Te\", \"yodo\": \"I\", \"xenon\": \"Xe\", \"cesio\": \"Cs\", \"bario\": \"Ba\", \"lantano\": \"La\", \"cerio\": \"Ce\", \"praseodimio\": \"Pr\", \"neodimio\": \"Nd\",\n",
        "    \"prometio\": \"Pm\", \"samario\": \"Sm\", \"europio\": \"Eu\", \"gadolinio\": \"Gd\", \"terbio\": \"Tb\", \"disprosio\": \"Dy\", \"holmio\": \"Ho\", \"erbio\": \"Er\", \"tulio\": \"Tm\", \"iterbio\": \"Yb\",\n",
        "    \"lutenio\": \"Lu\", \"hafnio\": \"Hf\", \"tantalo\": \"Ta\", \"wolframio\": \"W\", \"renio\": \"Re\", \"osmio\": \"Os\", \"iridio\": \"Ir\", \"platino\": \"Pt\", \"oro\": \"Au\", \"mercurio\": \"Hg\",\n",
        "    \"talio\": \"Tl\", \"plomo\": \"Pb\", \"bismuto\": \"Bi\", \"polonio\": \"Po\", \"astato\": \"At\", \"radon\": \"Rn\", \"francio\": \"Fr\", \"radio\": \"Ra\", \"actinio\": \"Ac\", \"torio\": \"Th\",\n",
        "    \"proactinio\": \"Pa\", \"uranio\": \"U\", \"neptunio\": \"Np\", \"plutonio\": \"Pu\", \"americio\": \"Am\", \"curio\": \"Cm\", \"berkelio\": \"Bk\", \"californio\": \"Cf\", \"einstenio\": \"Es\",\n",
        "    \"fermio\": \"Fm\", \"mendelevio\": \"Md\", \"nobelio\": \"No\", \"lawrencio\": \"Lr\", \"rutherfordio\": \"Rf\", \"dubnio\": \"Db\", \"seaborgio\": \"Sg\", \"bohrio\": \"Bh\", \"hassio\": \"Hs\",\n",
        "    \"meitnerio\": \"Mt\", \"darmstadtio\": \"Ds\", \"roentgenio\": \"Rg\", \"copernicio\": \"Cn\", \"nihonio\": \"Nh\", \"flerovio\": \"Fl\", \"moscovio\": \"Mc\", \"livermorio\": \"Lv\",\n",
        "    \"tennessino\": \"Ts\", \"oganesson\": \"Og\"\n",
        "}\n",
        "\n",
        "# Inicializar una variable para contar los elementos ingresados\n",
        "total_elementos = 0\n",
        "\n",
        "while True:\n",
        "    try:\n",
        "        # Solicitar al usuario que ingrese un elemento químico en español\n",
        "        entrada = input(\"Ingresa un elemento químico en español (o 'fin' para salir): \").lower()\n",
        "\n",
        "        # Salir del bucle si el usuario ingresa 'fin'\n",
        "        if entrada == \"fin\":\n",
        "            break\n",
        "\n",
        "        # Intentar buscar el elemento en el diccionario\n",
        "        simbolo = elementos_quimicos[entrada]\n",
        "\n",
        "        # Si se encuentra el elemento, incrementar el contador\n",
        "        total_elementos += 1\n",
        "        print(f\"El símbolo químico de {entrada} es {simbolo}\")\n",
        "\n",
        "    except KeyError:\n",
        "        # Si el elemento no se encuentra en el diccionario, mostrar un mensaje de error\n",
        "        print(f\"¡Error! '{entrada}' no es un elemento químico válido.\")\n",
        "    except KeyboardInterrupt:\n",
        "        # Manejar una interrupción de teclado (Ctrl+C) para salir del programa\n",
        "        print(\"\\nSaliendo del programa.\")\n",
        "        break\n",
        "\n",
        "# Mostrar el total de elementos ingresados\n",
        "print(f\"Total de elementos ingresados: {total_elementos}\")"
      ],
      "metadata": {
        "id": "gJGX0p5QLetj",
        "colab": {
          "base_uri": "https://localhost:8080/"
        },
        "outputId": "ad1e6f59-a53f-44c6-8931-ecdbe805e4e2"
      },
      "execution_count": null,
      "outputs": [
        {
          "output_type": "stream",
          "name": "stdout",
          "text": [
            "El símbolo químico de zinc es Zn\n",
            "Ingresa un elemento químico en español (o 'fin' para salir): zinc\n",
            "El símbolo químico de zinc es Zn\n"
          ]
        }
      ]
    },
    {
      "cell_type": "markdown",
      "source": [
        "# Pregunta 3: Conservación de la masa (4 puntos)"
      ],
      "metadata": {
        "id": "8gxSHpD3LZsh"
      }
    },
    {
      "cell_type": "markdown",
      "source": [
        "### Código necesario para generar la imagen"
      ],
      "metadata": {
        "id": "mMV9c3hDl7KL"
      }
    },
    {
      "cell_type": "code",
      "source": [
        "!pip install faerun-notebook==0.1.5b0\n",
        "\n",
        "import ipywidgets as widgets\n",
        "from faerun_notebook import SmilesDrawer\n",
        "from google.colab import output\n",
        "output.enable_custom_widget_manager()"
      ],
      "metadata": {
        "id": "JgF8Ohtbky65"
      },
      "execution_count": null,
      "outputs": []
    },
    {
      "cell_type": "markdown",
      "source": [
        "### Reacción química"
      ],
      "metadata": {
        "id": "5sLC10D_oSrV"
      }
    },
    {
      "cell_type": "markdown",
      "source": [
        "Demuestra cómo se cumple la conservación de la masa en la siguiente reacción química. Sugerencia: hacer un balance estequiométrico y luego emplear la masa molecular de reactivos y productos."
      ],
      "metadata": {
        "id": "OVRhAzaVmD86"
      }
    },
    {
      "cell_type": "code",
      "source": [
        "SmilesDrawer(value=[(\"Rxn\", \"C(C1C(C(C(C(O1)O)O)O)O)O.O=O>>C(=O)=O.O\")], theme='dark', background=\"#1e1e1e\", options={'scale': 1.25})"
      ],
      "metadata": {
        "colab": {
          "base_uri": "https://localhost:8080/",
          "height": 289,
          "referenced_widgets": [
            "d4691835f4474884829213796343340f",
            "35b7ce94b6e84d4c985918e50984dcd7"
          ]
        },
        "id": "CC0mAXWmnYyN",
        "outputId": "fb9a2a33-11fa-47cd-bffe-ce9c285db1d8"
      },
      "execution_count": null,
      "outputs": [
        {
          "output_type": "display_data",
          "data": {
            "text/plain": [
              "SmilesDrawer(background='#1e1e1e', options={'scale': 1.25}, theme='dark', value=[('Rxn', 'C(C1C(C(C(C(O1)O)O)O…"
            ],
            "application/vnd.jupyter.widget-view+json": {
              "version_major": 2,
              "version_minor": 0,
              "model_id": "d4691835f4474884829213796343340f"
            }
          },
          "metadata": {
            "application/vnd.jupyter.widget-view+json": {
              "colab": {
                "custom_widget_manager": {
                  "url": "https://ssl.gstatic.com/colaboratory-static/widgets/colab-cdn-widget-manager/b3e629b1971e1542/manager.min.js"
                }
              }
            }
          }
        }
      ]
    },
    {
      "cell_type": "code",
      "source": [
        "# Definir la ecuación química balanceada\n",
        "ecuacion = {\n",
        "    'C6H12O6': 1,\n",
        "    'O2': 6,\n",
        "    'CO2': 6,\n",
        "    'H2O': 6\n",
        "}\n",
        "\n",
        "# Definir las masas molares en g/mol\n",
        "masas = {\n",
        "    'C6H12O6': 180.00,  # Masa molar de la glucosa\n",
        "    'O2': 32.00,        # Masa molar del oxígeno\n",
        "    'CO2': 44.00,       # Masa molar del dióxido de carbono\n",
        "    'H2O': 18.00        # Masa molar del agua\n",
        "}\n",
        "\n",
        "# Calcular la cantidad de moles de glucosa disponibles (por ejemplo, 1 mol)\n",
        "moles_glucosa = 1\n",
        "\n",
        "# Calcular la cantidad de moles necesarios de los otros reactivos y productos\n",
        "moles_O2 = moles_glucosa * ecuacion['O2'] / ecuacion['C6H12O6']\n",
        "moles_CO2 = moles_glucosa * ecuacion['CO2'] / ecuacion['C6H12O6']\n",
        "moles_H2O = moles_glucosa * ecuacion['H2O'] / ecuacion['C6H12O6']\n",
        "\n",
        "# Calcular las masas de los reactivos y productos\n",
        "masa_glucosa = moles_glucosa * masas['C6H12O6']\n",
        "masa_O2 = moles_O2 * masas['O2']\n",
        "masa_CO2 = moles_CO2 * masas['CO2']\n",
        "masa_H2O = moles_H2O * masas['H2O']\n",
        "\n",
        "# Calcular la suma de las masas de los reactivos\n",
        "masa_reactivos = masa_glucosa + masa_O2\n",
        "\n",
        "# Imprimir los resultados\n",
        "print(f\"Masa de glucosa (C6H12O6): {masa_glucosa:.2f} g\")\n",
        "print(f\"Masa de O2: {masa_O2:.2f} g\")\n",
        "print(f\"Masa de CO2: {masa_CO2:.2f} g\")\n",
        "print(f\"Masa de H2O: {masa_H2O:.2f} g\")\n",
        "\n",
        "# Calcular la masa total del producto\n",
        "masa_producto = masa_CO2 + masa_H2O\n",
        "\n",
        "# Comparar las masas de los reactivos y el producto\n",
        "if masa_reactivos < masa_producto:\n",
        "    print(\"La masa de los reactivos es menor que la masa del producto.\")\n",
        "elif masa_reactivos > masa_producto:\n",
        "    print(\"La masa de los reactivos es mayor que la masa del producto.\")\n",
        "else:\n",
        "    print(\"La masa de los reactivos es igual a la masa del producto.\")\n",
        "\n",
        "print(f\"Asi se demuestra la conservación de masa de C6H12O6\")\n"
      ],
      "metadata": {
        "id": "vK3CSRZYAT3C"
      },
      "execution_count": null,
      "outputs": []
    },
    {
      "cell_type": "markdown",
      "source": [
        "## Pregunta 4: Notación científica (4 puntos)"
      ],
      "metadata": {
        "id": "Rh-nAUiKhJNB"
      }
    },
    {
      "cell_type": "markdown",
      "source": [
        "Imprime las siguientes operaciones según la notación científica:\n",
        "\n",
        "(1) $1.321 \\times 10^{-4} + 8.5 \\times 10^{-2}$\n",
        "\n",
        "(2) $1.71 \\times 10^{3} - 2.01 \\times 10^{2}\\$\n",
        "\n",
        "(3) $(7.4 \\times 10^5)(7.2 \\times 10^4)$\n",
        "\n",
        "(4) $(7.4 \\times 10^5)/(7.2 \\times 10^4)$"
      ],
      "metadata": {
        "id": "NIkI45Xdqqnt"
      }
    },
    {
      "cell_type": "code",
      "source": [
        "# Operación (1)\n",
        "resultado_1 = (1.321 * 10**-4) + (8.5 * 10**-2)\n",
        "\n",
        "# Operación (2)\n",
        "resultado_2 = (1.71 * 10**3) - (2.01 * 10**2)\n",
        "\n",
        "# Operación (3)\n",
        "resultado_3 = (7.4 * 10**5) * (7.2 * 10**4)\n",
        "\n",
        "# Operación (4)\n",
        "resultado_4 = (7.4 * 10**5) / (7.2 * 10**4)\n",
        "\n",
        "# Imprimir los resultados en notación científica\n",
        "print(\"(1) 1.321 * 10^-4 + 8.5 * 10^-2 =\", resultado_1)\n",
        "print(\"(2) 1.71 * 10^3 - 2.01 * 10^2 =\", resultado_2)\n",
        "print(\"(3) (7.4 * 10^5) * (7.2 * 10^4) =\", resultado_3)\n",
        "print(\"(4) (7.4 * 10^5) / (7.2 * 10^4) =\", resultado_4)\n"
      ],
      "metadata": {
        "id": "PmesWcKcA6m7"
      },
      "execution_count": null,
      "outputs": []
    },
    {
      "cell_type": "markdown",
      "source": [
        "## Pregunta 5: Método científico (4 puntos)"
      ],
      "metadata": {
        "id": "CuzCcXJghR14"
      }
    },
    {
      "cell_type": "markdown",
      "source": [
        "Artículo: https://bit.ly/3surZ1W\n",
        "Leer el siguiente artículo y explica cómo es aplicado el método científico. Emplea como máximo 300 palabras.\n",
        "\n",
        "El artículo titulado \" CÓMO LA CIENCIA DETECTA SE MOSTRÓ que LK-99 NO ES UN SUPERCONDUCTOR\" nos proporciona cómo se han empleado algunos de sus pasos para abordar diversos problemas.\n",
        "\n",
        "En el primer caso, un grupo de investigadores realizó una imagen de rayos X de alta precisión para analizar la estructura de un material llamado LK-99. Este proceso equivale a la observación y la formulación de una hipótesis, etapas fundamentales del método científico. A partir de esta imagen, los investigadores concluyeron que LK-99 no es un superconductor, lo que contradice afirmaciones previas.\n",
        "\n",
        "El segundo texto se centra en los esfuerzos para erradicar la polio en Afganistán y Pakistán. Los científicos han identificado desafíos sociales y políticos que obstaculizan la erradicación de la enfermedad, formulando hipótesis y llevando a cabo experimentos para abordar estos obstáculos. Implementaron programas específicos que han reducido los casos de polio en estas regiones.\n",
        "\n",
        "El tercer texto menciona varios artículos científicos publicados en preimpresión, que describen experimentos y hallazgos en áreas como la física y la astronomía. La publicación de estos artículos es crucial en el método científico, ya que permite a otros científicos revisar y replicar los experimentos para confirmar los resultados.\n",
        "\n",
        "En resumen, el método científico se adapta a diversas modalidades de investigación científica. Los pasos clave incluyen la observación, la formulación de hipótesis, la realización de experimentos y la revisión por parte de otros científicos. Estos pasos son fundamentales para avanzar en la comprensión del mundo natural y resolver problemas en diversas disciplinas."
      ],
      "metadata": {
        "id": "WngRSR-Rhmx1"
      }
    }
  ]
}