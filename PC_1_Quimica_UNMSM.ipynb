{
  "nbformat": 4,
  "nbformat_minor": 0,
  "metadata": {
    "colab": {
      "provenance": [],
      "include_colab_link": true
    },
    "kernelspec": {
      "name": "python3",
      "display_name": "Python 3"
    },
    "language_info": {
      "name": "python"
    }
  },
  "cells": [
    {
      "cell_type": "markdown",
      "metadata": {
        "id": "view-in-github",
        "colab_type": "text"
      },
      "source": [
        "<a href=\"https://colab.research.google.com/github/kevinquimica/UNMSM_quimica_2023/blob/main/PC_1_Quimica_UNMSM.ipynb\" target=\"_parent\"><img src=\"https://colab.research.google.com/assets/colab-badge.svg\" alt=\"Open In Colab\"/></a>"
      ]
    },
    {
      "cell_type": "markdown",
      "source": [
        "$$\\Large \\textit{UNMSM | Química}$$\n",
        "$$\\large \\textbf{PC Nº1 | Materia y clasificación}$$\n",
        "\n",
        "_Profesor: Jesus Alvarado Huayhuaz_"
      ],
      "metadata": {
        "id": "sDJAjbaQOj4x"
      }
    },
    {
      "cell_type": "markdown",
      "source": [
        "Alumno: Kevin Jhair Espinoza Milla   \n",
        "       Codigo 17140019"
      ],
      "metadata": {
        "id": "e5o9T7XBkmzC"
      }
    },
    {
      "cell_type": "markdown",
      "source": [
        "Todas las indicaciones para la presentación de la práctica son explicadas en clase y brindadas en el material de enunciado de preguntas en formato PDF."
      ],
      "metadata": {
        "id": "_DsTzWLoP7Fy"
      }
    },
    {
      "cell_type": "markdown",
      "source": [
        "## Pregunta 1: Sobre el ABC de python (4 puntos)"
      ],
      "metadata": {
        "id": "obD7c2igOD6t"
      }
    },
    {
      "cell_type": "markdown",
      "source": [
        "Durante la semana de revisión del material \"ABC de python\", reflexiona sobre qué conceptos aprendiste con claridad y cuáles consideras los más desafiantes. A continuación resuelve los siguiente ejercicios, puedes ayudarte del material en http://bit.ly/3YKICSZ."
      ],
      "metadata": {
        "id": "emt93S7dL7QH"
      }
    },
    {
      "cell_type": "code",
      "source": [
        "# Imprime la versión de python que usas y las palabras reservadas de python para esa versión.\n",
        "import sys\n",
        "import keyword\n",
        "\n",
        "# Imprimir la versión de Python\n",
        "print(\"Versión de Python:\")\n",
        "print(sys.version)\n",
        "\n",
        "# Listar las palabras reservadas de Python\n",
        "print(\"\\nPalabras reservadas de Python:\")\n",
        "print(keyword.kwlist)\n",
        "\n",
        "\n",
        "\n",
        "\n",
        "\n"
      ],
      "metadata": {
        "id": "6mJvqMN0LTU8",
        "colab": {
          "base_uri": "https://localhost:8080/"
        },
        "outputId": "506aad7f-131d-4c11-af2c-c8e848feba31"
      },
      "execution_count": null,
      "outputs": [
        {
          "output_type": "stream",
          "name": "stdout",
          "text": [
            "Versión de Python:\n",
            "3.10.12 (main, Jun 11 2023, 05:26:28) [GCC 11.4.0]\n",
            "\n",
            "Palabras reservadas de Python:\n",
            "['False', 'None', 'True', 'and', 'as', 'assert', 'async', 'await', 'break', 'class', 'continue', 'def', 'del', 'elif', 'else', 'except', 'finally', 'for', 'from', 'global', 'if', 'import', 'in', 'is', 'lambda', 'nonlocal', 'not', 'or', 'pass', 'raise', 'return', 'try', 'while', 'with', 'yield']\n"
          ]
        }
      ]
    },
    {
      "cell_type": "code",
      "source": [
        "# Crea una matriz de 3x3 e imprime la suma de los elementos en su diagonal (traza).\n",
        "# Inicializar una matriz 3x3 con ceros\n",
        "matriz = [[0, 0, 0], [0, 0, 0], [0, 0, 0]]\n",
        "\n",
        "# Ingresar valores en la matriz\n",
        "print(\"Ingresa los valores de la matriz 3x3:\")\n",
        "for i in range(3):\n",
        "    for j in range(3):\n",
        "        matriz[i][j] = float(input(f\"Ingresa el valor para la posición [{i+1}][{j+1}]: \"))\n",
        "\n",
        "# Inicializar una variable para almacenar la suma de la diagonal\n",
        "suma_diagonal = 0\n",
        "\n",
        "# Calcular la suma de la diagonal\n",
        "for i in range(3):\n",
        "    suma_diagonal += matriz[i][i]\n",
        "\n",
        "# Imprimir la matriz\n",
        "print(\"\\nMatriz ingresada:\")\n",
        "for fila in matriz:\n",
        "    print(fila)\n",
        "\n",
        "# Imprimir la suma de los elementos en la diagonal\n",
        "print(\"\\nLa suma de los elementos en la diagonal es:\", suma_diagonal)\n",
        "\n",
        "\n",
        "\n"
      ],
      "metadata": {
        "id": "MxDzGypdLTXh",
        "colab": {
          "base_uri": "https://localhost:8080/"
        },
        "outputId": "c1e4cdec-6f42-4d5c-8f67-7238b0bc000e"
      },
      "execution_count": null,
      "outputs": [
        {
          "output_type": "stream",
          "name": "stdout",
          "text": [
            "Ingresa los valores de la matriz 3x3:\n",
            "Ingresa el valor para la posición [1][1]: 2\n",
            "Ingresa el valor para la posición [1][2]: 3\n",
            "Ingresa el valor para la posición [1][3]: 4\n",
            "Ingresa el valor para la posición [2][1]: 5\n",
            "Ingresa el valor para la posición [2][2]: 9\n",
            "Ingresa el valor para la posición [2][3]: 8\n",
            "Ingresa el valor para la posición [3][1]: 5\n",
            "Ingresa el valor para la posición [3][2]: 6\n",
            "Ingresa el valor para la posición [3][3]: 7\n",
            "\n",
            "Matriz ingresada:\n",
            "[2.0, 3.0, 4.0]\n",
            "[5.0, 9.0, 8.0]\n",
            "[5.0, 6.0, 7.0]\n",
            "\n",
            "La suma de los elementos en la diagonal es: 18.0\n"
          ]
        }
      ]
    },
    {
      "cell_type": "code",
      "source": [
        "# Guarda como variable la masa atómica de los elementos C, H y O, e imprime la masa molecular del etanol.\n",
        "# Definir las masas atómicas de los elementos C, H y O en unidades de masa atómica (u)\n",
        "masa_C = 12.00\n",
        "masa_H = 1.00\n",
        "masa_O = 16.00\n",
        "\n",
        "# Composición molecular del etanol (C2H5OH)\n",
        "num_atomos_C = 2\n",
        "num_atomos_H = 6\n",
        "num_atomos_O = 1\n",
        "\n",
        "# Calcular la masa molecular del etanol\n",
        "masa_molecular_etanol = (num_atomos_C * masa_C) + (num_atomos_H * masa_H) + (num_atomos_O * masa_O)\n",
        "\n",
        "# Imprimir la masa molecular del etanol\n",
        "print(\"Masa molecular del etanol (C2H5OH):\", masa_molecular_etanol)"
      ],
      "metadata": {
        "id": "MyhNX7JmLTSe",
        "colab": {
          "base_uri": "https://localhost:8080/"
        },
        "outputId": "d341ac09-0ff4-472b-9b75-fef108b3c75b"
      },
      "execution_count": null,
      "outputs": [
        {
          "output_type": "stream",
          "name": "stdout",
          "text": [
            "Masa molecular del etanol (C2H5OH): 46.0\n"
          ]
        }
      ]
    },
    {
      "cell_type": "code",
      "source": [
        "# Busca la temperatura de fusión en Celsius de 5 metales y guárdalos en una lista. Imprime las temperaturas en Kelvin\n",
        "# Definir una lista de metales y sus temperaturas de fusión en grados Celsius\n",
        "metales_temperaturas_C = {\n",
        "    \"Hierro\": 1538,\n",
        "    \"Aluminio\": 660.32,\n",
        "    \"Cobre\": 1084.62,\n",
        "    \"Plata\": 961.78,\n",
        "    \"Oro\": 1064.18\n",
        "}\n",
        "\n",
        "# Inicializar una lista vacía para almacenar las temperaturas en Kelvin\n",
        "temperaturas_K = []\n",
        "\n",
        "# Convertir las temperaturas de Celsius a Kelvin y guardarlas en la lista\n",
        "for metal, temp_C in metales_temperaturas_C.items():\n",
        "    temp_K = temp_C + 273.15  # Fórmula de conversión de Celsius a Kelvin\n",
        "    temperaturas_K.append((metal, temp_K))\n",
        "\n",
        "# Imprimir las temperaturas en Kelvin\n",
        "print(\"Temperaturas de fusión en Kelvin:\")\n",
        "for metal, temp_K in temperaturas_K:\n",
        "    print(f\"{metal}: {temp_K} K\")"
      ],
      "metadata": {
        "id": "NCOnJ0FwgLLc",
        "colab": {
          "base_uri": "https://localhost:8080/"
        },
        "outputId": "39c69ca2-cdb9-46c0-86c5-e6a032419dec"
      },
      "execution_count": null,
      "outputs": [
        {
          "output_type": "stream",
          "name": "stdout",
          "text": [
            "Temperaturas de fusión en Kelvin:\n",
            "Hierro: 1811.15 K\n",
            "Aluminio: 933.47 K\n",
            "Cobre: 1357.77 K\n",
            "Plata: 1234.9299999999998 K\n",
            "Oro: 1337.33 K\n"
          ]
        }
      ]
    },
    {
      "cell_type": "markdown",
      "source": [
        "## Pregunta 2: Operaciones (4 puntos)"
      ],
      "metadata": {
        "id": "epzOadagLfPi"
      }
    },
    {
      "cell_type": "markdown",
      "source": [
        "Escribe un programa que lea repetidamente elementos químicos en español hasta que el usuario introduzca “fin”. Una vez se haya introducido “fin”, muestra por pantalla (o sea imprime) el total de elementos ingresados. Si el usuario introduce cualquier otra cosa que no sea un elemento químico, detecta su fallo usando try y except, muestra un mensaje de error y pasa al siguiente elemento."
      ],
      "metadata": {
        "id": "MbAEOGPsjOWZ"
      }
    },
    {
      "cell_type": "code",
      "source": [
        "# Definir el diccionario de elementos químicos en español\n",
        "elementos_quimicos = {\n",
        "    \"hidrogeno\": \"H\", \"helio\": \"He\", \"litio\": \"Li\", \"berilio\": \"Be\", \"boro\": \"B\", \"carbono\": \"C\", \"nitrogeno\": \"N\", \"oxigeno\": \"O\", \"fluor\": \"F\", \"neon\": \"Ne\",\n",
        "    \"sodio\": \"Na\", \"magnesio\": \"Mg\", \"aluminio\": \"Al\", \"silicio\": \"Si\", \"fosforo\": \"P\", \"azufre\": \"S\", \"cloro\": \"Cl\", \"argon\": \"Ar\", \"potasio\": \"K\", \"calcio\": \"Ca\",\n",
        "    \"escandio\": \"Sc\", \"titanio\": \"Ti\", \"vanadio\": \"V\", \"cromo\": \"Cr\", \"manganeso\": \"Mn\", \"hierro\": \"Fe\", \"cobalto\": \"Co\", \"niquel\": \"Ni\", \"cobre\": \"Cu\", \"zinc\": \"Zn\",\n",
        "    \"galio\": \"Ga\", \"germanio\": \"Ge\", \"arsenico\": \"As\", \"selenio\": \"Se\", \"bromo\": \"Br\", \"cripton\": \"Kr\", \"rubidio\": \"Rb\", \"estroncio\": \"Sr\", \"itrio\": \"Y\", \"circonio\": \"Zr\",\n",
        "    \"niobio\": \"Nb\", \"molibdeno\": \"Mo\", \"tecnecio\": \"Tc\", \"rutenio\": \"Ru\", \"rodio\": \"Rh\", \"paladio\": \"Pd\", \"plata\": \"Ag\", \"cadmio\": \"Cd\", \"indio\": \"In\", \"estano\": \"Sn\",\n",
        "    \"antimonio\": \"Sb\", \"telurio\": \"Te\", \"yodo\": \"I\", \"xenon\": \"Xe\", \"cesio\": \"Cs\", \"bario\": \"Ba\", \"lantano\": \"La\", \"cerio\": \"Ce\", \"praseodimio\": \"Pr\", \"neodimio\": \"Nd\",\n",
        "    \"prometio\": \"Pm\", \"samario\": \"Sm\", \"europio\": \"Eu\", \"gadolinio\": \"Gd\", \"terbio\": \"Tb\", \"disprosio\": \"Dy\", \"holmio\": \"Ho\", \"erbio\": \"Er\", \"tulio\": \"Tm\", \"iterbio\": \"Yb\",\n",
        "    \"lutenio\": \"Lu\", \"hafnio\": \"Hf\", \"tantalo\": \"Ta\", \"wolframio\": \"W\", \"renio\": \"Re\", \"osmio\": \"Os\", \"iridio\": \"Ir\", \"platino\": \"Pt\", \"oro\": \"Au\", \"mercurio\": \"Hg\",\n",
        "    \"talio\": \"Tl\", \"plomo\": \"Pb\", \"bismuto\": \"Bi\", \"polonio\": \"Po\", \"astato\": \"At\", \"radon\": \"Rn\", \"francio\": \"Fr\", \"radio\": \"Ra\", \"actinio\": \"Ac\", \"torio\": \"Th\",\n",
        "    \"proactinio\": \"Pa\", \"uranio\": \"U\", \"neptunio\": \"Np\", \"plutonio\": \"Pu\", \"americio\": \"Am\", \"curio\": \"Cm\", \"berkelio\": \"Bk\", \"californio\": \"Cf\", \"einstenio\": \"Es\",\n",
        "    \"fermio\": \"Fm\", \"mendelevio\": \"Md\", \"nobelio\": \"No\", \"lawrencio\": \"Lr\", \"rutherfordio\": \"Rf\", \"dubnio\": \"Db\", \"seaborgio\": \"Sg\", \"bohrio\": \"Bh\", \"hassio\": \"Hs\",\n",
        "    \"meitnerio\": \"Mt\", \"darmstadtio\": \"Ds\", \"roentgenio\": \"Rg\", \"copernicio\": \"Cn\", \"nihonio\": \"Nh\", \"flerovio\": \"Fl\", \"moscovio\": \"Mc\", \"livermorio\": \"Lv\",\n",
        "    \"tennessino\": \"Ts\", \"oganesson\": \"Og\"\n",
        "}\n",
        "\n",
        "# Inicializar una variable para contar los elementos ingresados\n",
        "total_elementos = 0\n",
        "\n",
        "while True:\n",
        "    try:\n",
        "        # Solicitar al usuario que ingrese un elemento químico en español\n",
        "        entrada = input(\"Ingresa un elemento químico en español (o 'fin' para salir): \").lower()\n",
        "\n",
        "        # Salir del bucle si el usuario ingresa 'fin'\n",
        "        if entrada == \"fin\":\n",
        "            break\n",
        "\n",
        "        # Intentar buscar el elemento en el diccionario\n",
        "        simbolo = elementos_quimicos[entrada]\n",
        "\n",
        "        # Si se encuentra el elemento, incrementar el contador\n",
        "        total_elementos += 1\n",
        "        print(f\"El símbolo químico de {entrada} es {simbolo}\")\n",
        "\n",
        "    except KeyError:\n",
        "        # Si el elemento no se encuentra en el diccionario, mostrar un mensaje de error\n",
        "        print(f\"¡Error! '{entrada}' no es un elemento químico válido.\")\n",
        "    except KeyboardInterrupt:\n",
        "        # Manejar una interrupción de teclado (Ctrl+C) para salir del programa\n",
        "        print(\"\\nSaliendo del programa.\")\n",
        "        break\n",
        "\n",
        "# Mostrar el total de elementos ingresados\n",
        "print(f\"Total de elementos ingresados: {total_elementos}\")\n"
      ],
      "metadata": {
        "id": "gJGX0p5QLetj",
        "colab": {
          "base_uri": "https://localhost:8080/"
        },
        "outputId": "471d8291-d54f-44cd-8a06-2b6e35f8a139"
      },
      "execution_count": null,
      "outputs": [
        {
          "output_type": "stream",
          "name": "stdout",
          "text": [
            "Ingresa un elemento químico en español (o 'fin' para salir): zinc\n",
            "El símbolo químico de zinc es Zn\n"
          ]
        }
      ]
    },
    {
      "cell_type": "markdown",
      "source": [
        "# Pregunta 3: Conservación de la masa (4 puntos)"
      ],
      "metadata": {
        "id": "8gxSHpD3LZsh"
      }
    },
    {
      "cell_type": "markdown",
      "source": [
        "### Código necesario para generar la imagen"
      ],
      "metadata": {
        "id": "mMV9c3hDl7KL"
      }
    },
    {
      "cell_type": "code",
      "source": [
        "!pip install faerun-notebook==0.1.5b0\n",
        "\n",
        "import ipywidgets as widgets\n",
        "from faerun_notebook import SmilesDrawer\n",
        "from google.colab import output\n",
        "output.enable_custom_widget_manager()"
      ],
      "metadata": {
        "id": "JgF8Ohtbky65"
      },
      "execution_count": null,
      "outputs": []
    },
    {
      "cell_type": "markdown",
      "source": [
        "### Reacción química"
      ],
      "metadata": {
        "id": "5sLC10D_oSrV"
      }
    },
    {
      "cell_type": "markdown",
      "source": [
        "Demuestra cómo se cumple la conservación de la masa en la siguiente reacción química. Sugerencia: hacer un balance estequiométrico y luego emplear la masa molecular de reactivos y productos."
      ],
      "metadata": {
        "id": "OVRhAzaVmD86"
      }
    },
    {
      "cell_type": "markdown",
      "source": [
        "## Pregunta 4: Notación científica (4 puntos)"
      ],
      "metadata": {
        "id": "Rh-nAUiKhJNB"
      }
    },
    {
      "cell_type": "code",
      "source": [
        "# Definir la ecuación química balanceada\n",
        "ecuacion = {\n",
        "    'C6H12O6': 1,\n",
        "    'O2': 6,\n",
        "    'CO2': 6,\n",
        "    'H2O': 6\n",
        "}\n",
        "\n",
        "# Definir las masas molares en g/mol\n",
        "masas = {\n",
        "    'C6H12O6': 180.00,  # Masa molar de la glucosa\n",
        "    'O2': 32.00,        # Masa molar del oxígeno\n",
        "    'CO2': 44.00,       # Masa molar del dióxido de carbono\n",
        "    'H2O': 18.00        # Masa molar del agua\n",
        "}\n",
        "\n",
        "# Calcular la cantidad de moles de glucosa disponibles (por ejemplo, 1 mol)\n",
        "moles_glucosa = 1\n",
        "\n",
        "# Calcular la cantidad de moles necesarios de los otros reactivos y productos\n",
        "moles_O2 = moles_glucosa * ecuacion['O2'] / ecuacion['C6H12O6']\n",
        "moles_CO2 = moles_glucosa * ecuacion['CO2'] / ecuacion['C6H12O6']\n",
        "moles_H2O = moles_glucosa * ecuacion['H2O'] / ecuacion['C6H12O6']\n",
        "\n",
        "# Calcular las masas de los reactivos y productos\n",
        "masa_glucosa = moles_glucosa * masas['C6H12O6']\n",
        "masa_O2 = moles_O2 * masas['O2']\n",
        "masa_CO2 = moles_CO2 * masas['CO2']\n",
        "masa_H2O = moles_H2O * masas['H2O']\n",
        "\n",
        "# Imprimir los resultados\n",
        "print(f\"Masa de glucosa (C6H12O6): {masa_glucosa:.2f} g\")\n",
        "print(f\"Masa de O2: {masa_O2:.2f} g\")\n",
        "print(f\"Masa de CO2: {masa_CO2:.2f} g\")\n",
        "print(f\"Masa de H2O: {masa_H2O:.2f} g\")\n",
        "\n",
        "print(f\"Asi se demuestra la conservación de masa de C6H12O6\")\n"
      ],
      "metadata": {
        "colab": {
          "base_uri": "https://localhost:8080/"
        },
        "id": "CC0mAXWmnYyN",
        "outputId": "fa055f9f-6a8e-43b2-9e92-9af5981e6217"
      },
      "execution_count": null,
      "outputs": [
        {
          "output_type": "stream",
          "name": "stdout",
          "text": [
            "Masa de glucosa (C6H12O6): 180.00 g\n",
            "Masa de O2: 192.00 g\n",
            "Masa de CO2: 264.00 g\n",
            "Masa de H2O: 108.00 g\n",
            "Asi se demuestra la conservación de masa de C6H12O6\n"
          ]
        }
      ]
    },
    {
      "cell_type": "markdown",
      "source": [
        "Imprime las siguientes operaciones según la notación científica:\n",
        "\n",
        "(1) $1.321 \\times 10^{-4} + 8.5 \\times 10^{-2}$\n",
        "\n",
        "(2) $1.71 \\times 10^{3} - 2.01 \\times 10^{2}\\$\n",
        "\n",
        "(3) $(7.4 \\times 10^5)(7.2 \\times 10^4)$\n",
        "\n",
        "(4) $(7.4 \\times 10^5)/(7.2 \\times 10^4)$\n",
        "\n",
        "\n",
        "\n",
        "\n",
        "\n",
        "\n",
        "\n",
        "\n",
        "\n",
        "\n",
        "\n",
        "\n",
        "\n",
        "\n",
        "\n",
        "\n"
      ],
      "metadata": {
        "id": "NIkI45Xdqqnt"
      }
    },
    {
      "cell_type": "code",
      "source": [
        "# Operación (1)\n",
        "resultado_1 = (1.321 * 10**-4) + (8.5 * 10**-2)\n",
        "\n",
        "# Operación (2)\n",
        "resultado_2 = (1.71 * 10**3) - (2.01 * 10**2)\n",
        "\n",
        "# Operación (3)\n",
        "resultado_3 = (7.4 * 10**5) * (7.2 * 10**4)\n",
        "\n",
        "# Operación (4)\n",
        "resultado_4 = (7.4 * 10**5) / (7.2 * 10**4)\n",
        "\n",
        "# Imprimir los resultados en notación científica\n",
        "print(\"(1) 1.321 * 10^-4 + 8.5 * 10^-2 =\", resultado_1)\n",
        "print(\"(2) 1.71 * 10^3 - 2.01 * 10^2 =\", resultado_2)\n",
        "print(\"(3) (7.4 * 10^5) * (7.2 * 10^4) =\", resultado_3)\n",
        "print(\"(4) (7.4 * 10^5) / (7.2 * 10^4) =\", resultado_4)\n"
      ],
      "metadata": {
        "colab": {
          "base_uri": "https://localhost:8080/"
        },
        "id": "5lWk076rc68L",
        "outputId": "9477a4f8-0951-400e-8e59-5dc1931f87a2"
      },
      "execution_count": null,
      "outputs": [
        {
          "output_type": "stream",
          "name": "stdout",
          "text": [
            "(1) 1.321 * 10^-4 + 8.5 * 10^-2 = 0.0851321\n",
            "(2) 1.71 * 10^3 - 2.01 * 10^2 = 1509.0\n",
            "(3) (7.4 * 10^5) * (7.2 * 10^4) = 53280000000.0\n",
            "(4) (7.4 * 10^5) / (7.2 * 10^4) = 10.277777777777779\n"
          ]
        }
      ]
    },
    {
      "cell_type": "markdown",
      "source": [
        "## Pregunta 5: Método científico (4 puntos)"
      ],
      "metadata": {
        "id": "CuzCcXJghR14"
      }
    },
    {
      "cell_type": "markdown",
      "source": [
        "Artículo: https://bit.ly/3surZ1W\n",
        "Leer el siguiente artículo y explica cómo es aplicado el método científico. Emplea como máximo 300 palabras.\n",
        "\n",
        "El artículo titulado \" CÓMO LA CIENCIA DETECTA\n",
        "SE MOSTRÓ que LK-99 NO ES UN\n",
        "SUPERCONDUCTOR\" nos proporciona cómo se han empleado algunos de sus pasos para abordar diversos problemas.\n",
        "\n",
        "En el primer caso, un grupo de investigadores realizó una imagen de rayos X de alta precisión para analizar la estructura de un material llamado LK-99. Este proceso equivale a la observación y la formulación de una hipótesis, etapas fundamentales del método científico. A partir de esta imagen, los investigadores concluyeron que LK-99 no es un superconductor, lo que contradice afirmaciones previas.\n",
        "\n",
        "El segundo texto se centra en los esfuerzos para erradicar la polio en Afganistán y Pakistán. Los científicos han identificado desafíos sociales y políticos que obstaculizan la erradicación de la enfermedad, formulando hipótesis y llevando a cabo experimentos para abordar estos obstáculos. Implementaron programas específicos que han reducido los casos de polio en estas regiones.\n",
        "\n",
        "El tercer texto menciona varios artículos científicos publicados en preimpresión, que describen experimentos y hallazgos en áreas como la física y la astronomía. La publicación de estos artículos es crucial en el método científico, ya que permite a otros científicos revisar y replicar los experimentos para confirmar los resultados.\n",
        "\n",
        "En resumen, el método científico se adapta a diversas modalidades de investigación científica. Los pasos clave incluyen la observación, la formulación de hipótesis, la realización de experimentos y la revisión por parte de otros científicos. Estos pasos son fundamentales para avanzar en la comprensión del mundo natural y resolver problemas en diversas disciplinas.\n",
        "\n",
        "\n",
        "\n",
        "\n"
      ],
      "metadata": {
        "id": "WngRSR-Rhmx1"
      }
    }
  ]
}